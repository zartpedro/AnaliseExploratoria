{
  "cells": [
    {
      "cell_type": "markdown",
      "metadata": {
        "id": "DjGhmQOtxO37"
      },
      "source": [
        "# Notebook - Análise e Pré-Processamento de Dados\n",
        "## Análise Exploratória de Dados"
      ]
    },
    {
      "cell_type": "markdown",
      "metadata": {
        "id": "1Ho18K9QxO3-"
      },
      "source": [
        "# Medidas de Localidade\n",
        "\n",
        "* Dados categóricos\n",
        "    * Moda\n",
        "    \n",
        "* Dados numéricos\n",
        "    * Média\n",
        "    * Mediana\n",
        "    * Percentil"
      ]
    },
    {
      "cell_type": "code",
      "execution_count": null,
      "metadata": {
        "id": "vu45J1yBxO3_"
      },
      "outputs": [],
      "source": [
        "import numpy as np\n",
        "import matplotlib.pyplot as plt\n",
        "%matplotlib inline\n",
        "from scipy.stats import mode\n",
        "from scipy.stats import skew\n",
        "from scipy.stats import kurtosis\n",
        "from sklearn import preprocessing"
      ]
    },
    {
      "cell_type": "markdown",
      "metadata": {
        "id": "suFDH9tCxO4A"
      },
      "source": [
        "### Frequência\n",
        "* Proporção de vezes que determinada categoria acontece em um atributo categórico"
      ]
    },
    {
      "cell_type": "code",
      "execution_count": null,
      "metadata": {
        "id": "2LkWxhQ6xO4B",
        "outputId": "a165b1f9-1b41-495a-840a-f3b87d717ad1"
      },
      "outputs": [
        {
          "name": "stdout",
          "output_type": "stream",
          "text": [
            "Frequência da categoria \"Grande\" é  0.6666666666666666\n"
          ]
        }
      ],
      "source": [
        "mancha = np.array(['grande', 'pequena', 'grande', 'pequena', 'grande', 'grande'])\n",
        "\n",
        "# Calcula a frequencia da categoria grande no atributo 'mancha'\n",
        "frequencia = (mancha == 'grande').sum() / float(mancha.size)\n",
        "\n",
        "print('Frequência da categoria \"Grande\" é ', frequencia)"
      ]
    },
    {
      "cell_type": "markdown",
      "metadata": {
        "id": "e4tuIT_ixO4D"
      },
      "source": [
        "### ** Moda **\n",
        "* Valor que ocorre com maior frequência em um conjunto de dados."
      ]
    },
    {
      "cell_type": "code",
      "execution_count": null,
      "metadata": {
        "id": "r6QdRreGxO4D",
        "outputId": "5b896f90-475c-4862-bd61-e7437a3b30a8"
      },
      "outputs": [
        {
          "name": "stdout",
          "output_type": "stream",
          "text": [
            "A moda é a categoria grande . Quantidade de vezes que ocorre: [4]\n"
          ]
        }
      ],
      "source": [
        "mancha = np.array(['grande', 'pequena', 'grande', 'pequena', 'grande', 'grande'])\n",
        "\n",
        "# Calcula a moda do array.\n",
        "# Retorna a moda e quantidade de vezes correspondente.\n",
        "moda, qtd = mode(mancha)\n",
        "\n",
        "print('A moda é a categoria', moda[0],'. Quantidade de vezes que ocorre:', qtd)"
      ]
    },
    {
      "cell_type": "markdown",
      "metadata": {
        "id": "1UR9EL7YxO4E"
      },
      "source": [
        "### **Média**\n",
        "1. Pode ser calculada facilmente;\n",
        "2. Problema: sensível a outliers;\n",
        "3. É bom indicador do centro do conjunto de valores quando estes estão distribuídos simetricamente.\n",
        "\n",
        "### **Mediana**\n",
        "1. Menos sensível a outliers que a média;\n",
        "2. Necessário ordernar valores;\n",
        "3. Complexidade pior que linear no pior caso;\n",
        "4. Indica melhor centro\n",
        "    - Se distribuição é oblíqua (assimétrica, _skewed_);\n",
        "    - Se existem _outliers_."
      ]
    },
    {
      "cell_type": "code",
      "execution_count": null,
      "metadata": {
        "id": "KZTb19EjxO4E",
        "outputId": "bc095460-c559-4072-ce77-426b5dd453e2"
      },
      "outputs": [
        {
          "name": "stdout",
          "output_type": "stream",
          "text": [
            "A média das idades é 39.2  e a mediana é 22.0\n"
          ]
        }
      ],
      "source": [
        "idade = np.array([23, 20, 22, 21, 110])\n",
        "\n",
        "# Calcula a média do array.\n",
        "media = idade.mean()\n",
        "\n",
        "# Calcula a mediana do array.\n",
        "mediana = np.median(idade)\n",
        "\n",
        "print ('A média das idades é', media, ' e a mediana é', mediana)"
      ]
    },
    {
      "cell_type": "markdown",
      "metadata": {
        "id": "8QcMW3aqxO4F"
      },
      "source": [
        "### ** Média Podada **\n",
        "1. _Trimmed mean_;\n",
        "2. Minimiza problema da média descartando valores dos extremos\n",
        "    3. Dados são ordenados;\n",
        "    4. Elimina *p%* dos valores em cada extremidade."
      ]
    },
    {
      "cell_type": "code",
      "execution_count": null,
      "metadata": {
        "id": "70cB-my0xO4F",
        "outputId": "858dad03-6e2c-4bc2-a96f-409015314774"
      },
      "outputs": [
        {
          "name": "stdout",
          "output_type": "stream",
          "text": [
            "A média podada é: 15.833333333333334\n"
          ]
        }
      ],
      "source": [
        "from scipy.stats import trim_mean\n",
        "\n",
        "x = np.array([1, 2, 3, 4, 5, 80])\n",
        "\n",
        "# Eliminar 20% (0.2) dos valores em cada extremidade\n",
        "media_podada = trim_mean(x, 0.165)\n",
        "\n",
        "print('A média podada é:', media_podada)"
      ]
    },
    {
      "cell_type": "markdown",
      "metadata": {
        "id": "bTDGc12ixO4G"
      },
      "source": [
        "### ** Percentil **\n",
        "1. O pº percentil é o valor observado tal que p% dos valores\n",
        "da amostra são menores que ele"
      ]
    },
    {
      "cell_type": "code",
      "execution_count": null,
      "metadata": {
        "id": "zxrb1spTxO4G",
        "outputId": "d6b45c8b-780d-4b8c-bbde-982124bba19f"
      },
      "outputs": [
        {
          "name": "stdout",
          "output_type": "stream",
          "text": [
            "P50% = 3.0\n"
          ]
        }
      ],
      "source": [
        "x = np.array([1, 2, 3, 4, 5])\n",
        "\n",
        "# Percentil 50% (mediana)\n",
        "p50 = np.percentile(x,50)\n",
        "\n",
        "print ('P50% =', p50)"
      ]
    },
    {
      "cell_type": "code",
      "execution_count": null,
      "metadata": {
        "id": "aon97d_rxO4H",
        "outputId": "40cb1d43-8f8b-414b-b676-8f49abaed70b"
      },
      "outputs": [
        {
          "data": {
            "text/plain": [
              "{'whiskers': [<matplotlib.lines.Line2D at 0x1fd038a5f40>,\n",
              "  <matplotlib.lines.Line2D at 0x1fd038be250>],\n",
              " 'caps': [<matplotlib.lines.Line2D at 0x1fd038be5e0>,\n",
              "  <matplotlib.lines.Line2D at 0x1fd038be970>],\n",
              " 'boxes': [<matplotlib.lines.Line2D at 0x1fd038a5af0>],\n",
              " 'medians': [<matplotlib.lines.Line2D at 0x1fd038bed00>],\n",
              " 'fliers': [<matplotlib.lines.Line2D at 0x1fd03f690d0>],\n",
              " 'means': []}"
            ]
          },
          "execution_count": 7,
          "metadata": {},
          "output_type": "execute_result"
        },
        {
          "data": {
            "image/png": "[encoded data removed]",
            "text/plain": [
              "<Figure size 432x288 with 1 Axes>"
            ]
          },
          "metadata": {
            "needs_background": "light"
          },
          "output_type": "display_data"
        }
      ],
      "source": [
        "x = np.array([1, 2, 3, 4, 5])\n",
        "\n",
        "#Boxplot\n",
        "plt.boxplot(x)"
      ]
    },
    {
      "cell_type": "markdown",
      "metadata": {
        "id": "-zsXM5vyxO4H"
      },
      "source": [
        "# Medidas de Espalhamento\n",
        "\n",
        "* Medem a dispersão (ou grau de espalhamento) de um conjunto de valores;\n",
        "* Indicam se um atributo está\n",
        "    * Amplamente espalhado;\n",
        "    * Relativamente concentrado em torno de um ponto (ex. média).\n",
        "    \n",
        "* Medidas comuns\n",
        "    * Intervalo;\n",
        "    * Variância;\n",
        "    * Desvio padrão.\n"
      ]
    },
    {
      "cell_type": "markdown",
      "metadata": {
        "id": "A8OrM4bXxO4H"
      },
      "source": [
        "### ** Intervalo **\n",
        "1. Medida simples;\n",
        "2. Calcula o espalhamento máximo\n",
        "3. Sejam {_x(1),..., x(n)_} os valores de _**x**_ para _N_ objetos: _r(**x**) = max(**x**) - min(**x**)_\n",
        "4. **Atenção**: pode ser má ideia!\n",
        "    5. Valores concentrados ao redor de um ponto, porém com alguns poucos valores extremos."
      ]
    },
    {
      "cell_type": "code",
      "execution_count": null,
      "metadata": {
        "scrolled": true,
        "id": "o0rJB49fxO4I",
        "outputId": "07e7400c-560d-4974-ec5b-0039fe8b7d1f"
      },
      "outputs": [
        {
          "name": "stdout",
          "output_type": "stream",
          "text": [
            "Intervalo 1: 25.87\n",
            "Intervalo 2: 1278.8\n"
          ]
        }
      ],
      "source": [
        "xi = np.array([3.20, 11.70, 13.64, 15.60, 15.89, 28.44, 29.07])\n",
        "intervalo1 = xi.max() - xi.min()\n",
        "\n",
        "print('Intervalo 1:', intervalo1)\n",
        "\n",
        "xj = np.array([3.20, 11.70, 13.64, 15.60, 15.89, 28.44, 29.07, 0.1, 1278.9])\n",
        "intervalo2 = xj.max() - xj.min()\n",
        "\n",
        "print('Intervalo 2:', round(intervalo2, 2))"
      ]
    },
    {
      "cell_type": "markdown",
      "metadata": {
        "id": "06RqJGlcxO4I"
      },
      "source": [
        "### ** Variância ($\\sigma^2$) **\n",
        "1. Medida **preferida** para análise de espalhamento\n",
        "2. Denominador _(N-1)_: correção de Bessel, usada para uma melhor estimativa de verdadeira variância;\n",
        "3. **Segundo momento central**;\n",
        "4. Desvio padrão ($\\sigma$): raiz quadrada da variância."
      ]
    },
    {
      "cell_type": "code",
      "execution_count": null,
      "metadata": {
        "scrolled": true,
        "id": "s3b-shujxO4I",
        "outputId": "2f20a67a-7fd3-45ed-826d-0e4c01a383da"
      },
      "outputs": [
        {
          "name": "stdout",
          "output_type": "stream",
          "text": [
            "Variância pela fórmula: 84.88\n",
            "Variância numpy: 84.88\n",
            "Variância numpy sem correção: 72.75\n",
            "Desvio padrão pela fórmula: 9.21\n",
            "Desvio padrão numpy: 9.21\n",
            "Desvio padrão numpy sem correção: 8.53\n"
          ]
        }
      ],
      "source": [
        "x = np.array([3.20, 11.70, 13.64, 15.60, 15.89, 28.44, 29.07])\n",
        "\n",
        "# Calculando a variância pela fórmula (com correção de Bessel)\n",
        "variance = ((x - x.mean())**2).sum() / float(x.size - 1)\n",
        "\n",
        "# Calculando a variância com o numpy (com correção de Bessel)\n",
        "variance1 = x.var(ddof=1)\n",
        "\n",
        "# Calculando a variância com o numpy (sem correção de Bessel)\n",
        "variance2 = x.var()\n",
        "\n",
        "# Desvio padrão pela fórmula\n",
        "desvio = np.sqrt(variance)\n",
        "\n",
        "# Calculando o desvio padrão com o numpy (com correção de Bessel)\n",
        "desvio1 = x.std(ddof=1)\n",
        "\n",
        "# Calculando o desvio padrão com o numpy (sem correção de Bessel)\n",
        "desvio2 = x.std()\n",
        "\n",
        "print('Variância pela fórmula:', round(variance, 2))\n",
        "print('Variância numpy:', round(variance1, 2))\n",
        "print('Variância numpy sem correção:', round(variance2, 2))\n",
        "print('Desvio padrão pela fórmula:', round(desvio, 2))\n",
        "print('Desvio padrão numpy:', round(desvio1, 2))\n",
        "print('Desvio padrão numpy sem correção:', round(desvio2, 2))\n"
      ]
    },
    {
      "cell_type": "markdown",
      "metadata": {
        "id": "1peAlnFDxO4J"
      },
      "source": [
        "### ** Obliquidade ($\\gamma$) **\n",
        "1. _Skewness_\n",
        "    2. Mede a **simetria da distribuição** em torno da média\n",
        "    3. Divisão por ($\\sigma^3$) torna medida independente de escala\n",
        "    4. **Terceiro momento central padronizado**"
      ]
    },
    {
      "cell_type": "code",
      "execution_count": null,
      "metadata": {
        "id": "jJ42YECNxO4K",
        "outputId": "41b7de45-51e0-4c73-a57d-966c84830389"
      },
      "outputs": [
        {
          "name": "stdout",
          "output_type": "stream",
          "text": [
            "Obliquidade (sem correção): 0.174\n",
            "Obliquidade com scipy.stats: 0.174\n"
          ]
        }
      ],
      "source": [
        "x = np.array([3.20, 11.70, 13.64, 15.60, 15.89, 28.44, 29.07])\n",
        "\n",
        "media = x.mean()\n",
        "desvio = x.std()\n",
        "skewness = ((x - media)**3).sum() / float(x.size )\n",
        "skewness = skewness / float(desvio**3)\n",
        "\n",
        "# Calculando a obliquidade\n",
        "# from scipy.stats import skew\n",
        "oblq = skew(x, bias=True)\n",
        "\n",
        "print('Obliquidade (sem correção):', round(skewness, 3))\n",
        "print('Obliquidade com scipy.stats:', round(oblq, 3))"
      ]
    },
    {
      "cell_type": "markdown",
      "metadata": {
        "id": "2PhG4N5ixO4K"
      },
      "source": [
        "### ** Curtose ($\\beta$) **\n",
        "1. _Kurtosis_\n",
        "    2. Mede a **formato (achatamento) da distribuição**\n",
        "    3. **Quarto momento central** padronizado;\n",
        "    4. Valor de $\\beta(x)=3$ para distribuição normal padrão;\n",
        "    5. Portanto, é comum subtrair $\\beta(x)$ de 3 para que a distribuição normal padrão tenha $\\beta(x) =0$"
      ]
    },
    {
      "cell_type": "code",
      "execution_count": null,
      "metadata": {
        "id": "pyaQYgrjxO4L",
        "outputId": "8ef5f9ef-0dc3-4286-a130-48f2f3f579dc"
      },
      "outputs": [
        {
          "name": "stdout",
          "output_type": "stream",
          "text": [
            "Curtose sem correção: 2.05\n",
            "Curtose com scipy (sem subtração de Fisher): 2.05\n",
            "Curtose com scipy (com subtração de Fisher): -0.95\n"
          ]
        }
      ],
      "source": [
        "x = np.array([3.20, 11.70, 13.64, 15.60, 15.89, 28.44, 29.07])\n",
        "\n",
        "media = x.mean()\n",
        "desvio = x.std()\n",
        "curt = ((x - media)**4).sum() / float(x.size)\n",
        "curt = curt / float(desvio**4)\n",
        "\n",
        "# Calculando a curtose\n",
        "# from scipy.stats import kurtosis\n",
        "curtose = kurtosis(x, fisher=False)\n",
        "curtose2 = kurtosis(x, fisher=True)\n",
        "\n",
        "print('Curtose sem correção:', round(curt, 2))\n",
        "print('Curtose com scipy (sem subtração de Fisher):', round(curtose, 2))\n",
        "print('Curtose com scipy (com subtração de Fisher):', round(curtose2, 2))"
      ]
    },
    {
      "cell_type": "markdown",
      "metadata": {
        "id": "qD5hfgjfxO4L"
      },
      "source": [
        "# Dados Multivariados\n",
        "\n",
        "* Medidas de espalhamento\n",
        "    * Calculadas por atributo, de maneira independente;\n",
        "        * Qualquer uma das medidas;\n",
        "        \n",
        "        \n",
        "* Variáveis contínuas\n",
        "    * Espalhamento do dataset pode ser capturado por uma **matriz de covariância**;\n",
        "        * Cada elemento é a covariância do par de atributos;\n",
        "\n",
        "\n",
        "* Covariância de dois atributos\n",
        "    * Mede o grau com que os atributos variam juntos;\n",
        "    * Covariância não indica com clareza o relacionamento entre os pares de atributos;\n",
        "        * Sugestão é utilizar **correlação**;\n",
        "            * Indica **relacionamento linear** entre 2 variáveis;\n",
        "            * É preferível para explorar dados do que covariância;"
      ]
    },
    {
      "cell_type": "code",
      "execution_count": null,
      "metadata": {
        "id": "HfOY5Q3AxO4L",
        "outputId": "e2a50f5c-cee4-4b77-8e99-0471f93ab2e5"
      },
      "outputs": [
        {
          "name": "stdout",
          "output_type": "stream",
          "text": [
            "Dados:\n",
            "[[0 4]\n",
            " [1 3]\n",
            " [2 2]\n",
            " [3 1]\n",
            " [4 0]]\n",
            "\n",
            "Matriz de covariância:\n",
            "[[ 2.5 -2.5]\n",
            " [-2.5  2.5]]\n",
            "\n",
            "[[ 2.5 -2.5]\n",
            " [-2.5  2.5]]\n"
          ]
        }
      ],
      "source": [
        "# 4 instancias com 2 atributos cada (x0, x1)\n",
        "x = np.array([[0, 4], [1, 3], [2, 2], [3, 1], [4,0]])\n",
        "\n",
        "# Visualizar 4 instâncias\n",
        "print('Dados:')\n",
        "print(x)\n",
        "print('')\n",
        "\n",
        "# Calcular matriz pela fórmula\n",
        "# Note que no numpy, vetores são \"linha\" por definição\n",
        "media = x.mean(axis=0)\n",
        "matriz_cov = (x - media).T.dot((x-media)) / float(x.shape[0] - 1)\n",
        "\n",
        "# Calcular matriz via numpy (note que a correção de Bessel é default)\n",
        "cov_matrix = np.cov(x, rowvar=False)\n",
        "\n",
        "print('Matriz de covariância:')\n",
        "print(matriz_cov)\n",
        "print('')\n",
        "print(cov_matrix)"
      ]
    },
    {
      "cell_type": "code",
      "execution_count": null,
      "metadata": {
        "scrolled": true,
        "id": "QQZNXkVnxO4M",
        "outputId": "2a56e8f3-4611-4550-9de9-a1ed846aa5ec"
      },
      "outputs": [
        {
          "name": "stdout",
          "output_type": "stream",
          "text": [
            "Pearson:  0.996\n",
            "\n",
            "[[1.         0.99646528]\n",
            " [0.99646528 1.        ]]\n"
          ]
        }
      ],
      "source": [
        "from scipy.stats.stats import pearsonr\n",
        "\n",
        "a = np.array([900, 1000, 2000, 3000, 4000, 5000, 6000, 7000, 8000, 9000])\n",
        "b = np.array([0.6, 0.7, 0.8, 0.9, 1, 1.1, 1.2, 1.3, 1.4, 1.5])\n",
        "\n",
        "# Correlação de Pearson entre a e b (scipy)\n",
        "pearson, p_value = pearsonr(a,b)\n",
        "print('Pearson: ',round(pearson, 3))\n",
        "print('')\n",
        "\n",
        "# Matriz de correlação com o numpy\n",
        "correlacao = np.corrcoef(a,b, rowvar=False)\n",
        "print(correlacao)"
      ]
    },
    {
      "cell_type": "code",
      "execution_count": null,
      "metadata": {
        "scrolled": true,
        "id": "F_EA80k9xO4M",
        "outputId": "f5e6beba-90af-493f-b176-4d1de6fff194"
      },
      "outputs": [
        {
          "data": {
            "text/plain": [
              "['setosa', 'versicolor', 'virginica']"
            ]
          },
          "execution_count": 14,
          "metadata": {},
          "output_type": "execute_result"
        }
      ],
      "source": [
        "# http://scikit-learn.org/stable/modules/generated/sklearn.datasets.load_iris.html#sklearn.datasets.load_iris\n",
        "# from sklearn.datasets import load_iris\n",
        "\n",
        "# data = load_iris()\n",
        "# corr = np.corrcoef(data.values()[1])\n",
        "# plt.imshow(corr)\n",
        "\n",
        "\n",
        "from sklearn.datasets import load_iris\n",
        "data = load_iris()\n",
        "data.target[[10, 25, 50]]\n",
        "list(data.target_names)"
      ]
    },
    {
      "cell_type": "code",
      "execution_count": null,
      "metadata": {
        "id": "mPomAug7xO4N"
      },
      "outputs": [],
      "source": [
        "# Criando função para plotar o dataset abalone\n",
        "\n",
        "def correlation_matrix(df):\n",
        "    from matplotlib import pyplot as plt\n",
        "    from matplotlib import cm as cm\n",
        "\n",
        "    fig = plt.figure()\n",
        "    ax1 = fig.add_subplot(111)\n",
        "    cmap = cm.get_cmap('jet', 30)\n",
        "    cax = ax1.imshow(df.corr(method='pearson'), interpolation=\"nearest\", cmap=cmap)\n",
        "    ax1.grid(True)\n",
        "    plt.title('Correlacao de Atributos (Dataset Abalone)')\n",
        "    labels=['Sex','Length','Diam','Height','Whole','Shucked','Viscera','Shell','Rings',]\n",
        "    ax1.set_xticklabels(labels,fontsize=6)\n",
        "    ax1.set_yticklabels(labels,fontsize=6)\n",
        "    # Add colorbar, make sure to specify tick locations to match desired ticklabels\n",
        "    fig.colorbar(cax, ticks=[0.75, .8,.85,.90,.95,1])\n",
        "    plt.show()"
      ]
    },
    {
      "cell_type": "code",
      "execution_count": null,
      "metadata": {
        "id": "b2eEzQv3xO4N",
        "outputId": "15877d4d-52bc-4eb7-82d0-9b48267b143a"
      },
      "outputs": [
        {
          "name": "stderr",
          "output_type": "stream",
          "text": [
            "C:\\Users\\julia\\AppData\\Local\\Temp/ipykernel_21404/3318050125.py:14: UserWarning: FixedFormatter should only be used together with FixedLocator\n",
            "  ax1.set_xticklabels(labels,fontsize=6)\n",
            "C:\\Users\\julia\\AppData\\Local\\Temp/ipykernel_21404/3318050125.py:15: UserWarning: FixedFormatter should only be used together with FixedLocator\n",
            "  ax1.set_yticklabels(labels,fontsize=6)\n"
          ]
        },
        {
          "data": {
            "image/png": "[encoded data removed]",
            "text/plain": [
              "<Figure size 432x288 with 2 Axes>"
            ]
          },
          "metadata": {
            "needs_background": "light"
          },
          "output_type": "display_data"
        }
      ],
      "source": [
        "# Usando o pandas para criar um dataframe\n",
        "# http://datascience.stackexchange.com/questions/10459/calculation-and-visualization-of-correlation-matrix-with-pandas\n",
        "from pandas import DataFrame, read_csv\n",
        "f = 'https://archive.ics.uci.edu/ml/machine-learning-databases/abalone/abalone.data'\n",
        "df = read_csv(f)\n",
        "df=df[0:200]\n",
        "\n",
        "correlation_matrix(df)"
      ]
    },
    {
      "cell_type": "code",
      "execution_count": null,
      "metadata": {
        "id": "ROjJ_17YxO4N",
        "outputId": "a0c32ed6-f6bd-452c-95b2-19bc40c4c976"
      },
      "outputs": [
        {
          "name": "stdout",
          "output_type": "stream",
          "text": [
            "[1 0 2 1 2 0]\n",
            "\n",
            "[[0 1 0]\n",
            " [1 0 0]\n",
            " [0 0 1]\n",
            " [0 1 0]\n",
            " [0 0 1]\n",
            " [1 0 0]]\n"
          ]
        }
      ],
      "source": [
        "#One-Hot Encoding (1-de-N)\n",
        "cores = np.array(['azul', 'amarelo', 'vermelho', 'azul', 'vermelho', 'amarelo'])\n",
        "\n",
        "# Transforma em Valores Inteiros\n",
        "encoder = preprocessing.LabelEncoder()\n",
        "encoder.fit(cores)\n",
        "cores_inteiros = encoder.transform(cores)\n",
        "print(cores_inteiros)\n",
        "print('')\n",
        "\n",
        "# Transforma em One-Hot\n",
        "oneHot = preprocessing.LabelBinarizer()\n",
        "oneHot.fit(cores_inteiros)\n",
        "cores_onehot = oneHot.transform(cores_inteiros)\n",
        "\n",
        "print(cores_onehot)"
      ]
    }
  ],
  "metadata": {
    "anaconda-cloud": {},
    "kernelspec": {
      "display_name": "Python 3 (ipykernel)",
      "language": "python",
      "name": "python3"
    },
    "language_info": {
      "codemirror_mode": {
        "name": "ipython",
        "version": 3
      },
      "file_extension": ".py",
      "mimetype": "text/x-python",
      "name": "python",
      "nbconvert_exporter": "python",
      "pygments_lexer": "ipython3",
      "version": "3.9.7"
    },
    "colab": {
      "provenance": []
    }
  },
  "nbformat": 4,
  "nbformat_minor": 0
}